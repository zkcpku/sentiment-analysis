{
 "cells": [
  {
   "cell_type": "code",
   "execution_count": 9,
   "metadata": {},
   "outputs": [],
   "source": [
    "# from stanfordcorenlp import StanfordCoreNLP\n",
    "# nlp = StanfordCoreNLP(r'E:\\P大课件\\Sentiment\\stanford-corenlp-full-2018-10-05')\n",
    "# sentence = 'I love you.'\n",
    "# nlp.parse(sentence)\n",
    "# nlp.close()"
   ]
  },
  {
   "cell_type": "code",
   "execution_count": null,
   "metadata": {},
   "outputs": [],
   "source": [
    "# from nltk.parse.stanford import StanfordParser\n",
    "# parser = StanfordParser(model_path=u'edu/stanford/nlp/models/lexparser/englishPCFG.ser.gz')\n",
    "# tree = parser.parse_one([\"I love you\"])\n",
    "# tree = tree.pformat()\n",
    "# print(tree)"
   ]
  },
  {
   "cell_type": "code",
   "execution_count": 14,
   "metadata": {},
   "outputs": [],
   "source": [
    "from nltk.parse.corenlp import CoreNLPParser"
   ]
  },
  {
   "cell_type": "code",
   "execution_count": 19,
   "metadata": {},
   "outputs": [],
   "source": [
    "parser = CoreNLPParser(url='http://localhost:8000')"
   ]
  },
  {
   "cell_type": "code",
   "execution_count": 22,
   "metadata": {},
   "outputs": [],
   "source": [
    "a = parser.parse_one(sent='I love you',bin = True)"
   ]
  },
  {
   "cell_type": "code",
   "execution_count": 25,
   "metadata": {},
   "outputs": [],
   "source": [
    "a.draw()"
   ]
  },
  {
   "cell_type": "code",
   "execution_count": 32,
   "metadata": {},
   "outputs": [
    {
     "name": "stdout",
     "output_type": "stream",
     "text": [
      "(ROOT\n",
      "  (SINV\n",
      "    (ADVP (RB Here))\n",
      "    (VP (VBZ is))\n",
      "    (NP\n",
      "      (DT a)\n",
      "      (NN man)\n",
      "      (SBAR (WHNP (WP who)) (S (VP (VBZ is) (ADJP (JJ handsome))))))))\n",
      "(SINV (SINV Here is) (NP (NP a man) (SBAR who (VP is handsome))))\n"
     ]
    }
   ],
   "source": [
    "from nltk import Tree\n",
    "from functools import reduce\n",
    "def binarize(tree):\n",
    "    \"\"\"\n",
    "    Recursively turn a tree into a binary tree.\n",
    "    \"\"\"\n",
    "    if isinstance(tree, str):\n",
    "        return tree\n",
    "    elif len(tree) == 1:\n",
    "        return binarize(tree[0])\n",
    "    else:\n",
    "        label = tree.label()\n",
    "        return reduce(lambda x, y: Tree(label, (binarize(x), binarize(y))), tree)\n",
    "    \n",
    "parser = CoreNLPParser(url='http://localhost:8000')\n",
    "#parse, = parser.raw_parse('you could say that they regularly catch a shower, which adds to their exhilaration and joie de vivre')\n",
    "parse, = parser.raw_parse('Here is a man who is handsome')\n",
    "print(parse)\n",
    "t = parse\n",
    "bt = binarize(t)\n",
    "print(bt)\n",
    "bt.draw()"
   ]
  },
  {
   "cell_type": "code",
   "execution_count": null,
   "metadata": {},
   "outputs": [],
   "source": []
  }
 ],
 "metadata": {
  "kernelspec": {
   "display_name": "Python 3",
   "language": "python",
   "name": "python3"
  },
  "language_info": {
   "codemirror_mode": {
    "name": "ipython",
    "version": 3
   },
   "file_extension": ".py",
   "mimetype": "text/x-python",
   "name": "python",
   "nbconvert_exporter": "python",
   "pygments_lexer": "ipython3",
   "version": "3.6.2"
  }
 },
 "nbformat": 4,
 "nbformat_minor": 2
}
