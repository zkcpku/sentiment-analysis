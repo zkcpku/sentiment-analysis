{
 "cells": [
  {
   "cell_type": "code",
   "execution_count": 1,
   "metadata": {},
   "outputs": [
    {
     "name": "stdout",
     "output_type": "stream",
     "text": [
      "Reading and parsing trees\n",
      "use old model?(y)y\n",
      "4_15_rst\n"
     ]
    },
    {
     "name": "stderr",
     "output_type": "stream",
     "text": [
      "100% |##########################################################| Time: 0:01:08\r"
     ]
    },
    {
     "name": "stdout",
     "output_type": "stream",
     "text": [
      "0.18346957311534967\n",
      "0.7733249692378218\n"
     ]
    },
    {
     "name": "stderr",
     "output_type": "stream",
     "text": [
      "\n"
     ]
    }
   ],
   "source": [
    "from getSentimentTree import *"
   ]
  },
  {
   "cell_type": "code",
   "execution_count": 16,
   "metadata": {},
   "outputs": [
    {
     "name": "stdout",
     "output_type": "stream",
     "text": [
      "get Sentence: I am truly happy.\n",
      "              +                \n",
      "          ____|______________   \n",
      "         +                   | \n",
      "  _______|____               |  \n",
      " |            +              | \n",
      " |    ________|____          |  \n",
      " |   |             ++        | \n",
      " |   |         ____|____     |  \n",
      " 0   0        +         ++   0 \n",
      " |   |        |         |    |  \n",
      " I   am     truly     happy  . \n",
      "\n",
      "get Sentence: I love you.\n",
      "          +         \n",
      "      ____|_______   \n",
      "     +            | \n",
      "  ___|____        |  \n",
      " |        +       | \n",
      " |    ____|___    |  \n",
      " 0   ++       0   0 \n",
      " |   |        |   |  \n",
      " I  love     you  . \n",
      "\n",
      "get Sentence: I really like it.\n",
      "                ++         \n",
      "             ___|________   \n",
      "            0            | \n",
      "  __________|___         |  \n",
      " |              +        | \n",
      " |           ___|____    |  \n",
      " |          0        |   | \n",
      " |     _____|___     |   |  \n",
      " 0    0         0    0   0 \n",
      " |    |         |    |   |  \n",
      " I  really     like  it  . \n",
      "\n",
      "get Sentence: I like it.\n",
      "          0         \n",
      "      ____|_______   \n",
      "     0            | \n",
      "  ___|____        |  \n",
      " |        +       | \n",
      " |    ____|___    |  \n",
      " 0   0        0   0 \n",
      " |   |        |   |  \n",
      " I  like      it  . \n",
      "\n",
      "get Sentence: I don't like it.\n",
      "                     0              \n",
      "              _______|____________   \n",
      "             0                    | \n",
      "  ___________|___                 |  \n",
      " |               0                | \n",
      " |        _______|________        |  \n",
      " |       0                +       | \n",
      " |    ___|___         ____|___    |  \n",
      " 0   0       0       0        0   0 \n",
      " |   |       |       |        |   |  \n",
      " I   do     n't     like      it  . \n",
      "\n",
      "get Sentence: I hate you.\n",
      "          -         \n",
      "      ____|_______   \n",
      "     0            | \n",
      "  ___|____        |  \n",
      " |        -       | \n",
      " |    ____|___    |  \n",
      " 0   --       0   0 \n",
      " |   |        |   |  \n",
      " I  hate     you  . \n",
      "\n"
     ]
    }
   ],
   "source": [
    "test_sentences = [\"I am truly happy.\",\"I love you.\",\"I really like it.\",\"I like it.\",\"I don't like it.\",\"I hate you.\"]\n",
    "# s = getSentimentTree(\"I don't hate it.\")\n",
    "# print(s)\n",
    "\n",
    "for i in test_sentences:\n",
    "    print(getSentimentTree(i))"
   ]
  },
  {
   "cell_type": "code",
   "execution_count": null,
   "metadata": {},
   "outputs": [],
   "source": []
  }
 ],
 "metadata": {
  "kernelspec": {
   "display_name": "Python 3",
   "language": "python",
   "name": "python3"
  },
  "language_info": {
   "codemirror_mode": {
    "name": "ipython",
    "version": 3
   },
   "file_extension": ".py",
   "mimetype": "text/x-python",
   "name": "python",
   "nbconvert_exporter": "python",
   "pygments_lexer": "ipython3",
   "version": "3.6.2"
  }
 },
 "nbformat": 4,
 "nbformat_minor": 2
}
